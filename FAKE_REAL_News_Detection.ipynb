{
  "nbformat": 4,
  "nbformat_minor": 0,
  "metadata": {
    "colab": {
      "name": "FAKE/REAL_News_Detection.ipynb",
      "provenance": [],
      "collapsed_sections": []
    },
    "kernelspec": {
      "name": "python3",
      "display_name": "Python 3"
    }
  },
  "cells": [
    {
      "cell_type": "markdown",
      "metadata": {
        "id": "pv8RBVGJDaYW",
        "colab_type": "text"
      },
      "source": [
        "# Let's start "
      ]
    },
    {
      "cell_type": "markdown",
      "metadata": {
        "id": "E5M8PfAzCqx9",
        "colab_type": "text"
      },
      "source": [
        "Here's the notebook representing the work done by a group of student who want to use AI and machine learning in distinguishing real/fake news in tweets"
      ]
    },
    {
      "cell_type": "code",
      "metadata": {
        "id": "dKwSUqae_i0a",
        "colab_type": "code",
        "colab": {}
      },
      "source": [
        "import pandas as pd"
      ],
      "execution_count": 0,
      "outputs": []
    },
    {
      "cell_type": "code",
      "metadata": {
        "id": "030O2ZERGPZX",
        "colab_type": "code",
        "outputId": "36f83ea1-0dd8-4ac4-93f0-f1e7adbfa0bd",
        "colab": {
          "base_uri": "https://localhost:8080/",
          "height": 204
        }
      },
      "source": [
        "# Import \"fake_or_real_news.csv\" from amazonaws website\n",
        "df = pd.read_csv(\"https://s3.amazonaws.com/assets.datacamp.com/blog_assets/fake_or_real_news.csv\")\n",
        "    \n",
        "# Inspect shape of df\n",
        "df.shape\n",
        "\n",
        "# Print first lines of df to see columns of the dataset\n",
        "df.head()"
      ],
      "execution_count": 0,
      "outputs": [
        {
          "output_type": "execute_result",
          "data": {
            "text/html": [
              "<div>\n",
              "<style scoped>\n",
              "    .dataframe tbody tr th:only-of-type {\n",
              "        vertical-align: middle;\n",
              "    }\n",
              "\n",
              "    .dataframe tbody tr th {\n",
              "        vertical-align: top;\n",
              "    }\n",
              "\n",
              "    .dataframe thead th {\n",
              "        text-align: right;\n",
              "    }\n",
              "</style>\n",
              "<table border=\"1\" class=\"dataframe\">\n",
              "  <thead>\n",
              "    <tr style=\"text-align: right;\">\n",
              "      <th></th>\n",
              "      <th>Unnamed: 0</th>\n",
              "      <th>title</th>\n",
              "      <th>text</th>\n",
              "      <th>label</th>\n",
              "    </tr>\n",
              "  </thead>\n",
              "  <tbody>\n",
              "    <tr>\n",
              "      <th>0</th>\n",
              "      <td>8476</td>\n",
              "      <td>You Can Smell Hillary’s Fear</td>\n",
              "      <td>Daniel Greenfield, a Shillman Journalism Fello...</td>\n",
              "      <td>FAKE</td>\n",
              "    </tr>\n",
              "    <tr>\n",
              "      <th>1</th>\n",
              "      <td>10294</td>\n",
              "      <td>Watch The Exact Moment Paul Ryan Committed Pol...</td>\n",
              "      <td>Google Pinterest Digg Linkedin Reddit Stumbleu...</td>\n",
              "      <td>FAKE</td>\n",
              "    </tr>\n",
              "    <tr>\n",
              "      <th>2</th>\n",
              "      <td>3608</td>\n",
              "      <td>Kerry to go to Paris in gesture of sympathy</td>\n",
              "      <td>U.S. Secretary of State John F. Kerry said Mon...</td>\n",
              "      <td>REAL</td>\n",
              "    </tr>\n",
              "    <tr>\n",
              "      <th>3</th>\n",
              "      <td>10142</td>\n",
              "      <td>Bernie supporters on Twitter erupt in anger ag...</td>\n",
              "      <td>— Kaydee King (@KaydeeKing) November 9, 2016 T...</td>\n",
              "      <td>FAKE</td>\n",
              "    </tr>\n",
              "    <tr>\n",
              "      <th>4</th>\n",
              "      <td>875</td>\n",
              "      <td>The Battle of New York: Why This Primary Matters</td>\n",
              "      <td>It's primary day in New York and front-runners...</td>\n",
              "      <td>REAL</td>\n",
              "    </tr>\n",
              "  </tbody>\n",
              "</table>\n",
              "</div>"
            ],
            "text/plain": [
              "   Unnamed: 0  ... label\n",
              "0        8476  ...  FAKE\n",
              "1       10294  ...  FAKE\n",
              "2        3608  ...  REAL\n",
              "3       10142  ...  FAKE\n",
              "4         875  ...  REAL\n",
              "\n",
              "[5 rows x 4 columns]"
            ]
          },
          "metadata": {
            "tags": []
          },
          "execution_count": 3
        }
      ]
    },
    {
      "cell_type": "code",
      "metadata": {
        "id": "G50d2kCcHWDn",
        "colab_type": "code",
        "colab": {}
      },
      "source": [
        "#Taking each text with it's label\n",
        "x= df[['text', 'label']]"
      ],
      "execution_count": 0,
      "outputs": []
    },
    {
      "cell_type": "code",
      "metadata": {
        "id": "kF996ZvOHZo6",
        "colab_type": "code",
        "outputId": "375ea727-817b-46d4-9fb5-ee50d6d51bad",
        "colab": {
          "base_uri": "https://localhost:8080/",
          "height": 139
        }
      },
      "source": [
        "# Replace  the labels Fake/ Real with binary values 0/1\n",
        "x[\"label\"] = x[\"label\"].map({\"FAKE\": 0, \"REAL\": 1})"
      ],
      "execution_count": 0,
      "outputs": [
        {
          "output_type": "stream",
          "text": [
            "/usr/local/lib/python3.6/dist-packages/ipykernel_launcher.py:1: SettingWithCopyWarning: \n",
            "A value is trying to be set on a copy of a slice from a DataFrame.\n",
            "Try using .loc[row_indexer,col_indexer] = value instead\n",
            "\n",
            "See the caveats in the documentation: http://pandas.pydata.org/pandas-docs/stable/user_guide/indexing.html#returning-a-view-versus-a-copy\n",
            "  \"\"\"Entry point for launching an IPython kernel.\n"
          ],
          "name": "stderr"
        }
      ]
    },
    {
      "cell_type": "code",
      "metadata": {
        "id": "ed5XR4DcHdrm",
        "colab_type": "code",
        "outputId": "ed5ae2f9-dbae-410f-a0ef-39bc42602500",
        "colab": {
          "base_uri": "https://localhost:8080/",
          "height": 34
        }
      },
      "source": [
        "from sklearn.feature_extraction.text import CountVectorizer\n",
        "# Set variables to show the real text \n",
        "mask_on = x['label'] == 1\n",
        "df_real = x[mask_on]['text']\n",
        "\n",
        "# Instantiate a CountVectorizer\n",
        "cv1 = CountVectorizer(stop_words = 'english')\n",
        "\n",
        "# Fit and transform the vectorizer on our corpus\n",
        "real_cvec = cv1.fit_transform(df_real)\n",
        "\n",
        "# Convert real_cvec into a DataFrame\n",
        "real_df = pd.DataFrame(real_cvec.toarray(),\n",
        "                   columns=cv1.get_feature_names())\n",
        "\n",
        "# Inspect head of real text cvec\n",
        "print(real_df.shape)"
      ],
      "execution_count": 0,
      "outputs": [
        {
          "output_type": "stream",
          "text": [
            "(3171, 43364)\n"
          ],
          "name": "stdout"
        }
      ]
    },
    {
      "cell_type": "code",
      "metadata": {
        "id": "Tc5bplTdHgpL",
        "colab_type": "code",
        "outputId": "51662a4b-1634-422c-ab2b-3e41acee738b",
        "colab": {
          "base_uri": "https://localhost:8080/",
          "height": 34
        }
      },
      "source": [
        "# Set variables to show fake text\n",
        "mask_no = x['label'] == 0\n",
        "df_fake = x[mask_no]['text']\n",
        "\n",
        "# Instantiate a CountVectorizer\n",
        "cv2 = CountVectorizer(stop_words = 'english')\n",
        "\n",
        "# Fit and transform the vectorizer on our corpus\n",
        "fake_cvec = cv2.fit_transform(df_fake)\n",
        "\n",
        "# Convert fake_cvec into a DataFrame\n",
        "fake_df = pd.DataFrame(fake_cvec.toarray(),\n",
        "                   columns=cv2.get_feature_names())\n",
        "\n",
        "# Inspect head of fake text cvec\n",
        "print(fake_df.shape)"
      ],
      "execution_count": 0,
      "outputs": [
        {
          "output_type": "stream",
          "text": [
            "(3164, 53064)\n"
          ],
          "name": "stdout"
        }
      ]
    },
    {
      "cell_type": "code",
      "metadata": {
        "id": "Ecw5VW3JHjr-",
        "colab_type": "code",
        "outputId": "9557a85c-2b8b-4423-9cdc-b9d82be06bef",
        "colab": {
          "base_uri": "https://localhost:8080/",
          "height": 68
        }
      },
      "source": [
        "#Having a look at the distribution of real vs fake texts\n",
        "#Baseline score\n",
        "x['label'].value_counts(normalize=True)"
      ],
      "execution_count": 0,
      "outputs": [
        {
          "output_type": "execute_result",
          "data": {
            "text/plain": [
              "1    0.500552\n",
              "0    0.499448\n",
              "Name: label, dtype: float64"
            ]
          },
          "metadata": {
            "tags": []
          },
          "execution_count": 8
        }
      ]
    },
    {
      "cell_type": "code",
      "metadata": {
        "id": "fBD35iwsHmfD",
        "colab_type": "code",
        "colab": {}
      },
      "source": [
        "#Preparing the data to feed to the machine learning model\n",
        "XX = x['text']\n",
        "#Selecting the corresponding labels\n",
        "y = x['label']"
      ],
      "execution_count": 0,
      "outputs": []
    },
    {
      "cell_type": "code",
      "metadata": {
        "id": "sh6E6zboHoEr",
        "colab_type": "code",
        "colab": {}
      },
      "source": [
        "#Preparing the training data and the testing data\n",
        "from sklearn.model_selection import train_test_split\n",
        "X_train, X_test, y_train, y_test = train_test_split(XX,\n",
        "                                                    y,\n",
        "                                                    random_state=42,\n",
        "                                                    stratify=y)"
      ],
      "execution_count": 0,
      "outputs": []
    },
    {
      "cell_type": "code",
      "metadata": {
        "id": "F_R8WMmBHqw6",
        "colab_type": "code",
        "outputId": "a2989955-7580-483f-ab3c-6ea71ab0987a",
        "colab": {
          "base_uri": "https://localhost:8080/",
          "height": 85
        }
      },
      "source": [
        "from sklearn.pipeline import Pipeline\n",
        "from sklearn.linear_model import LogisticRegression\n",
        "from sklearn.model_selection import GridSearchCV\n",
        "\n",
        "#The model will consist of a CountVectorizer method to convert text into numeric representation based on term frequency\n",
        "#followed by Logistic Regression algorithm to classify fake / real texts (news)\n",
        "pipe = Pipeline([('cvec', CountVectorizer()),    \n",
        "                 ('lr', LogisticRegression(solver='liblinear'))])\n",
        "\n",
        "# Tune GridSearchCV\n",
        "# This method allow the model to better fine tune the model parameters to get the best results \n",
        "pipe_params = {'cvec__stop_words': [None, 'english'],\n",
        "               'cvec__ngram_range': [(1,1), (2,2), (1,3)],\n",
        "               'lr__C': [0.01, 1]}\n",
        "\n",
        "gs = GridSearchCV(pipe, param_grid=pipe_params, cv=3)\n",
        "gs.fit(X_train, y_train);\n",
        "print(\"Best score:\", gs.best_score_)\n",
        "print(\"Train score\", gs.score(X_train, y_train))\n",
        "print(\"Test score\", gs.score(X_test, y_test))\n",
        "\n",
        "gs.best_params_"
      ],
      "execution_count": 0,
      "outputs": [
        {
          "output_type": "stream",
          "text": [
            "Best score: 0.9176989148167292\n",
            "Train score 1.0\n",
            "Test score 0.9242424242424242\n"
          ],
          "name": "stdout"
        },
        {
          "output_type": "execute_result",
          "data": {
            "text/plain": [
              "{'cvec__ngram_range': (1, 3), 'cvec__stop_words': 'english', 'lr__C': 1}"
            ]
          },
          "metadata": {
            "tags": []
          },
          "execution_count": 11
        }
      ]
    },
    {
      "cell_type": "code",
      "metadata": {
        "id": "fxkXHLAoHw0A",
        "colab_type": "code",
        "outputId": "652e0706-1e44-4801-90b0-22f9f437cd78",
        "colab": {
          "base_uri": "https://localhost:8080/",
          "height": 34
        }
      },
      "source": [
        "#Here's an arbitrary example how to use the model on unseen text and performing the classification\n",
        "if (gs.predict(['Karoui is president USA'])[0]):\n",
        "  print(\"REAL\")\n",
        "else:\n",
        "  print(\"FAKE\")"
      ],
      "execution_count": 0,
      "outputs": [
        {
          "output_type": "stream",
          "text": [
            "FAKE\n"
          ],
          "name": "stdout"
        }
      ]
    },
    {
      "cell_type": "code",
      "metadata": {
        "id": "a52ZvVkSHxyT",
        "colab_type": "code",
        "colab": {}
      },
      "source": [
        "#Now we can save the model to disk and use it another time\n",
        "import pickle\n",
        "filename = 'detect.sav'\n",
        "pickle.dump(gs, open(filename, 'wb'))"
      ],
      "execution_count": 0,
      "outputs": []
    }
  ]
}